{
 "cells": [
  {
   "cell_type": "markdown",
   "id": "928dc40a",
   "metadata": {},
   "source": [
    "# Convolutional Sentiment Classification Network\n",
    "### Ref: https://github.com/denizyuret/nn4nlp-code/blob/ilker/cnn-knet/05-cnn-knet/cnn-class.jl"
   ]
  },
  {
   "cell_type": "markdown",
   "id": "f6d1ba0d",
   "metadata": {},
   "source": [
    "# Imports"
   ]
  },
  {
   "cell_type": "code",
   "execution_count": 1,
   "id": "88fe5b56",
   "metadata": {},
   "outputs": [],
   "source": [
    "using Knet\n",
    "using Random, Statistics, Printf"
   ]
  },
  {
   "cell_type": "markdown",
   "id": "9e93b73c",
   "metadata": {},
   "source": [
    "# Data Pre-Processing"
   ]
  },
  {
   "cell_type": "markdown",
   "id": "61ed73ea",
   "metadata": {},
   "source": [
    "We are using the data from Stanford Sentiment Treebank dataset\n",
    "without tree information. First, we initialize our word->id and\n",
    "tag->id collections and insert padding word \"&lt;pad&gt;\" and\n",
    "unknown word \"&lt;unk&gt;\" symbols into word->id collection."
   ]
  },
  {
   "cell_type": "code",
   "execution_count": 2,
   "id": "e607735b",
   "metadata": {},
   "outputs": [],
   "source": [
    "wdict, tdict = Dict(), Dict()\n",
    "w2i(x) = get!(wdict, x, 1+length(wdict))\n",
    "t2i(x) = get!(tdict, x, 1+length(tdict))\n",
    "PAD = w2i(\"<pad>\");\n",
    "UNK = w2i(\"<unk>\");"
   ]
  },
  {
   "cell_type": "markdown",
   "id": "15084103",
   "metadata": {},
   "source": [
    "In the data files, each line consists of sentiment and sentence\n",
    "information separated by `|||`."
   ]
  },
  {
   "cell_type": "code",
   "execution_count": 3,
   "id": "cd282246",
   "metadata": {},
   "outputs": [
    {
     "data": {
      "text/plain": [
       "readdata (generic function with 1 method)"
      ]
     },
     "execution_count": 3,
     "metadata": {},
     "output_type": "execute_result"
    }
   ],
   "source": [
    "function readdata(file)\n",
    "    instances = []\n",
    "    for line in eachline(file)\n",
    "        y, x = split(line, \" ||| \")\n",
    "        y, x = t2i(y), w2i.(split(x))\n",
    "        push!(instances, (x, [y]))\n",
    "    end\n",
    "    return instances\n",
    "end"
   ]
  },
  {
   "cell_type": "markdown",
   "id": "5af795e7",
   "metadata": {},
   "source": [
    "After reading training data, we redefine ```w2i``` procedure to\n",
    "avoid inserting new words into our vocabulary collection and then\n",
    "read validation data"
   ]
  },
  {
   "cell_type": "code",
   "execution_count": 4,
   "id": "93f8a459",
   "metadata": {
    "scrolled": true
   },
   "outputs": [
    {
     "data": {
      "text/plain": [
       "2210-element Vector{Any}:\n",
       " ([6067, 74, 2, 466], [3])\n",
       " ([242, 105, 534, 173, 7, 907, 7, 9, 621, 7  …  150, 29, 3138, 5, 22, 151, 1335, 7, 4561, 36], [1])\n",
       " ([2, 235, 1772, 1069, 29, 114, 2403, 319, 18, 12  …  2, 3315, 18, 136, 981, 326, 1077, 173, 294, 36], [2])\n",
       " ([3, 341, 665, 197, 496, 856, 323, 9, 11012, 5774  …  413, 90, 11074, 9, 8756, 6046, 40, 9, 2894, 36], [3])\n",
       " ([4431, 18, 1069, 2848, 40, 1258, 17, 6332, 36], [2])\n",
       " ([1696, 896, 1105, 694, 783, 254, 70, 13564, 2, 18, 9, 677, 7, 4957, 5, 13295, 96, 151, 4912, 36], [1])\n",
       " ([3567, 580, 122, 22, 6135, 141, 18, 2, 178, 9  …  136, 12, 44, 1750, 105, 527, 7, 3703, 136, 36], [1])\n",
       " ([372, 19, 2209, 3334, 136, 603, 36], [1])\n",
       " ([334, 335, 40, 336, 337, 1070, 22, 3125, 582, 3962, 40, 3610, 599, 36], [1])\n",
       " ([162, 5, 22, 341, 257, 305, 1580, 29, 4006, 17, 2162, 5784, 17, 248, 36], [2])\n",
       " ([360, 298, 3473, 166, 17874, 5, 355, 2987, 3132, 17, 2973, 5574, 36], [1])\n",
       " ([308, 5078, 5, 310, 3052, 846, 907, 7, 9, 599  …  350, 9, 1229, 29, 9, 365, 29, 9, 1006, 36], [1])\n",
       " ([990, 40, 9, 3375, 8993, 29, 2, 621, 694, 36], [2])\n",
       " ⋮\n",
       " ([4862, 13072, 1559, 22, 2305, 590, 29, 49, 504, 1155  …  1698, 29, 74, 949, 9, 2, 40, 355, 1839, 36], [5])\n",
       " ([2004, 1164, 136, 628, 3927, 29, 9, 1105, 981, 90  …  9772, 12, 305, 40, 1027, 7, 1797, 136, 4938, 36], [3])\n",
       " ([12085, 7, 881, 235, 332, 7, 9, 8980, 36], [4])\n",
       " ([175, 341, 783, 96, 235, 340, 1825, 29, 4065, 29  …  235, 3762, 1109, 161, 22, 2, 1280, 2370, 195, 36], [4])\n",
       " ([2, 7520, 122, 355, 480, 7, 9, 5533, 36], [5])\n",
       " ([242, 105, 106, 49, 9, 5376, 10781, 389, 127, 319, 5, 294, 1043, 2, 16486, 36], [4])\n",
       " ([358, 3703, 127, 319], [4])\n",
       " ([655, 2706, 2, 36], [1])\n",
       " ([308, 175, 310, 1069, 29, 516, 341, 36], [2])\n",
       " ([308, 655, 310, 2645, 1748, 530, 36], [2])\n",
       " ([2831, 308, 12168, 310, 323, 5299, 36], [1])\n",
       " ([308, 2, 310, 2, 11783, 36], [5])"
      ]
     },
     "execution_count": 4,
     "metadata": {},
     "output_type": "execute_result"
    }
   ],
   "source": [
    "trn = readdata(\"/Users/emrecanacikgoz/Desktop/Comp442/data/classes/train.txt\")\n",
    "w2i(x) = get(wdict, x, UNK)\n",
    "t2i(x) = tdict[x]\n",
    "nwords, ntags = length(wdict), length(tdict)\n",
    "dev = readdata(\"/Users/emrecanacikgoz/Desktop/Comp442/data/classes/test.txt\")"
   ]
  },
  {
   "cell_type": "markdown",
   "id": "0b547e0f",
   "metadata": {},
   "source": [
    "# Model"
   ]
  },
  {
   "cell_type": "markdown",
   "id": "70836bd8",
   "metadata": {},
   "source": [
    "We begin developing convolutional sentiment classification model.\n",
    "Our model is a stack of five consecutive operations: word embeddings,\n",
    "1-dimensional convolution, max-pooling, ReLU activation and linear\n",
    "prediction layer. First, we define our network,"
   ]
  },
  {
   "cell_type": "code",
   "execution_count": 5,
   "id": "67121350",
   "metadata": {},
   "outputs": [],
   "source": [
    "mutable struct CNN\n",
    "    embedding\n",
    "    conv1d\n",
    "    linear\n",
    "end"
   ]
  },
  {
   "cell_type": "markdown",
   "id": "bbf9b850",
   "metadata": {},
   "source": [
    "Then, we implement the forward propagation and loss calculation,"
   ]
  },
  {
   "cell_type": "code",
   "execution_count": 6,
   "id": "56d83daa",
   "metadata": {},
   "outputs": [],
   "source": [
    "function (model::CNN)(x)\n",
    "    windowsize = size(model.conv1d.w, 2)\n",
    "    if windowsize > length(x)\n",
    "        x = vcat(x, [PAD for i = 1:windowsize-length(x)])\n",
    "    end\n",
    "    emb = model.embedding(x)\n",
    "    T, E = size(emb); B = 1\n",
    "    emb = reshape(emb, 1, T, E, B)\n",
    "    hidden = relu.(maximum(model.conv1d(emb), dims=2))\n",
    "    hidden = reshape(hidden, size(hidden,3), B)\n",
    "    output = model.linear(hidden)\n",
    "end"
   ]
  },
  {
   "cell_type": "code",
   "execution_count": 7,
   "id": "770d8577",
   "metadata": {},
   "outputs": [],
   "source": [
    "(model::CNN)(x,y) = nll(model(x),y)"
   ]
  },
  {
   "cell_type": "markdown",
   "id": "9ecd47d3",
   "metadata": {},
   "source": [
    "In order to make our network working, we need to implement ```Embedding```,\n",
    "```Linear``` and ```Conv``` layers,"
   ]
  },
  {
   "cell_type": "code",
   "execution_count": 8,
   "id": "d5b4c1a9",
   "metadata": {},
   "outputs": [
    {
     "data": {
      "text/plain": [
       "Embedding"
      ]
     },
     "execution_count": 8,
     "metadata": {},
     "output_type": "execute_result"
    }
   ],
   "source": [
    "mutable struct Embedding; w; end\n",
    "(layer::Embedding)(x) = layer.w[x, :]\n",
    "Embedding(vocabsize::Int, embedsize::Int) = Embedding(\n",
    "    param(vocabsize, embedsize))"
   ]
  },
  {
   "cell_type": "code",
   "execution_count": 9,
   "id": "b593ccca",
   "metadata": {},
   "outputs": [],
   "source": [
    "mutable struct Linear; w; b; pdrop;end\n",
    "Linear(inputsize::Int, outputsize::Int, pdrop=0) = Linear(\n",
    "    param(outputsize, inputsize),\n",
    "    param0(outputsize, 1), \n",
    "    pdrop)\n",
    "(layer::Linear)(x) = layer.w * dropout(x, layer.pdrop) .+ layer.b"
   ]
  },
  {
   "cell_type": "code",
   "execution_count": 10,
   "id": "41652ccc",
   "metadata": {},
   "outputs": [],
   "source": [
    "mutable struct Conv; w; b; pdrop;end\n",
    "Conv(embedsize::Int, nfilters::Int, windowsize::Int, pdrop=0) = Conv(\n",
    "    param(1, windowsize, embedsize, nfilters),\n",
    "    param0(1, 1, nfilters, 1), \n",
    "    pdrop)\n",
    "(layer::Conv)(x) = conv4(layer.w, dropout(x, layer.pdrop); stride=1, padding=0) .+ layer.b"
   ]
  },
  {
   "cell_type": "markdown",
   "id": "07746ee9",
   "metadata": {},
   "source": [
    "# Training"
   ]
  },
  {
   "cell_type": "markdown",
   "id": "85efaf2c",
   "metadata": {},
   "source": [
    "We initialize our model,"
   ]
  },
  {
   "cell_type": "code",
   "execution_count": 15,
   "id": "fcf1e604",
   "metadata": {},
   "outputs": [
    {
     "data": {
      "text/plain": [
       "CNN(Embedding(P(Matrix{Float32}(18280,64))), Conv(P(Array{Float32, 4}(1,3,64,64)), P(Array{Float32, 4}(1,1,64,1)), 0.2), Linear(P(Matrix{Float32}(5,64)), P(Matrix{Float32}(5,1)), 0.2))"
      ]
     },
     "execution_count": 15,
     "metadata": {},
     "output_type": "execute_result"
    }
   ],
   "source": [
    "EMBEDSIZE = 64\n",
    "WINSIZE = KERNELSIZE = 3\n",
    "NFILTERS = 64\n",
    "model = CNN(\n",
    "    Embedding(nwords, EMBEDSIZE),\n",
    "    Conv(EMBEDSIZE, NFILTERS, KERNELSIZE, 0.2),\n",
    "    Linear(NFILTERS, ntags, 0.2))"
   ]
  },
  {
   "cell_type": "markdown",
   "id": "a07ff01f",
   "metadata": {},
   "source": [
    "We implement a validation procedure which computes accuracy and average loss\n",
    "over the entire input data split."
   ]
  },
  {
   "cell_type": "code",
   "execution_count": 16,
   "id": "5f1a3888",
   "metadata": {},
   "outputs": [
    {
     "data": {
      "text/plain": [
       "validate (generic function with 1 method)"
      ]
     },
     "execution_count": 16,
     "metadata": {},
     "output_type": "execute_result"
    }
   ],
   "source": [
    "function validate(data)\n",
    "    loss = correct = 0\n",
    "    for (x,y) in data\n",
    "        ŷ = model(x)\n",
    "        loss += nll(ŷ,y)\n",
    "        correct += argmax(Array(ŷ))[1] == y[1]\n",
    "    end\n",
    "    return loss/length(data), correct/length(data)\n",
    "end"
   ]
  },
  {
   "cell_type": "markdown",
   "id": "ab873a94",
   "metadata": {},
   "source": [
    "Finally, here is the training loop:"
   ]
  },
  {
   "cell_type": "code",
   "execution_count": 17,
   "id": "02d5eb14",
   "metadata": {},
   "outputs": [
    {
     "data": {
      "text/plain": [
       "train (generic function with 2 methods)"
      ]
     },
     "execution_count": 17,
     "metadata": {},
     "output_type": "execute_result"
    }
   ],
   "source": [
    "function train(nepochs=20)\n",
    "    for epoch=1:nepochs\n",
    "        progress!(adam(model, shuffle(trn)))\n",
    "\n",
    "        trnloss, trnacc = validate(trn)\n",
    "        @printf(\"iter %d: trn loss/sent=%.4f, trn acc=%.4f\\n\",\n",
    "                epoch, trnloss, trnacc)\n",
    "\n",
    "        devloss, devacc = validate(dev)\n",
    "        @printf(\"iter %d: dev loss/sent=%.4f, dev acc=%.4f\\n\",\n",
    "                epoch, devloss, devacc)\n",
    "    end\n",
    "end"
   ]
  },
  {
   "cell_type": "code",
   "execution_count": 18,
   "id": "7a24da1a",
   "metadata": {},
   "outputs": [
    {
     "name": "stderr",
     "output_type": "stream",
     "text": [
      "┣████████████████████┫ [100.00%, 8544/8544, 05:12/05:12, 27.41i/s] \n",
      "┣████████████████████┫ [100.00%, 8544/8544, 11:38/11:38, 12.24i/s] \n",
      "┣████████████████████┫ [100.00%, 8544/8544, 08:46/08:46, 16.23i/s] \n"
     ]
    },
    {
     "name": "stdout",
     "output_type": "stream",
     "text": [
      "iter 1: trn loss/sent=1.1760, trn acc=0.5176\n",
      "iter 1: dev loss/sent=1.3664, dev acc=0.4077\n",
      "iter 2: trn loss/sent=0.8119, trn acc=0.7556\n",
      "iter 2: dev loss/sent=1.3445, dev acc=0.4041\n",
      "iter 3: trn loss/sent=0.4609, trn acc=0.8895\n",
      "iter 3: dev loss/sent=1.4448, dev acc=0.4140\n"
     ]
    }
   ],
   "source": [
    "train(3)"
   ]
  },
  {
   "cell_type": "code",
   "execution_count": null,
   "id": "47e1d0c7",
   "metadata": {},
   "outputs": [],
   "source": []
  }
 ],
 "metadata": {
  "kernelspec": {
   "display_name": "Julia 1.7.2",
   "language": "julia",
   "name": "julia-1.7"
  },
  "language_info": {
   "file_extension": ".jl",
   "mimetype": "application/julia",
   "name": "julia",
   "version": "1.7.2"
  }
 },
 "nbformat": 4,
 "nbformat_minor": 5
}
