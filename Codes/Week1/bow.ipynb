{
 "cells": [
  {
   "cell_type": "markdown",
   "id": "283a0984",
   "metadata": {},
   "source": [
    "# Bag of Words (BOW) Model"
   ]
  },
  {
   "cell_type": "markdown",
   "id": "d1f07548",
   "metadata": {},
   "source": [
    "# Imports"
   ]
  },
  {
   "cell_type": "code",
   "execution_count": 1,
   "id": "9c9ea058",
   "metadata": {},
   "outputs": [],
   "source": [
    "using Knet: Param, @diff, grad, params\n",
    "using Random: shuffle!\n",
    "# using Pkg; Pkg.add(\"CUDA\")\n",
    "using CUDA: CUDA, CuArray, functional"
   ]
  },
  {
   "cell_type": "markdown",
   "id": "c95dda34",
   "metadata": {},
   "source": [
    "# Data Pre-processing"
   ]
  },
  {
   "cell_type": "code",
   "execution_count": 2,
   "id": "c1ffa160",
   "metadata": {},
   "outputs": [
    {
     "data": {
      "text/plain": [
       "readdata (generic function with 1 method)"
      ]
     },
     "execution_count": 2,
     "metadata": {},
     "output_type": "execute_result"
    }
   ],
   "source": [
    "function readdata(file)\n",
    "    data = []\n",
    "    for line in eachline(file)\n",
    "        tag, sentence = split(strip(lowercase(line)), \" ||| \")\n",
    "        wordids = w2i.(split(sentence))\n",
    "        tagid = t2i(tag)\n",
    "        push!(data, (wordids, tagid))\n",
    "    end\n",
    "    return data\n",
    "end"
   ]
  },
  {
   "cell_type": "code",
   "execution_count": 3,
   "id": "a6f181df",
   "metadata": {},
   "outputs": [
    {
     "data": {
      "text/plain": [
       "1"
      ]
     },
     "execution_count": 3,
     "metadata": {},
     "output_type": "execute_result"
    }
   ],
   "source": [
    "wdict = Dict()\n",
    "tdict = Dict()\n",
    "w2i(x) = get!(wdict, x, 1+length(wdict))\n",
    "t2i(x) = get!(tdict, x, 1+length(tdict))\n",
    "UNK = w2i(\"<unk>\")"
   ]
  },
  {
   "cell_type": "code",
   "execution_count": 4,
   "id": "d198cd2e",
   "metadata": {},
   "outputs": [
    {
     "data": {
      "text/plain": [
       "([2, 3, 4, 5, 6, 7, 2, 8, 9, 10  …  25, 26, 27, 28, 29, 30, 31, 32, 33, 34], 1)"
      ]
     },
     "execution_count": 4,
     "metadata": {},
     "output_type": "execute_result"
    }
   ],
   "source": [
    "trn = readdata(\"/Users/emrecanacikgoz/Desktop/Comp442/data/classes/train.txt\")\n",
    "first(trn)"
   ]
  },
  {
   "cell_type": "code",
   "execution_count": 5,
   "id": "588a444d",
   "metadata": {},
   "outputs": [
    {
     "data": {
      "text/plain": [
       "t2i (generic function with 1 method)"
      ]
     },
     "execution_count": 5,
     "metadata": {},
     "output_type": "execute_result"
    }
   ],
   "source": [
    "# Before reading the dev/test data, we change the word->id function to return UNK \n",
    "# for unknown words and tag->id function to error for unknown tags.\n",
    "w2i(x) = get(wdict, x, UNK)     # unk if not found\n",
    "t2i(x) = tdict[x]               # error if not found"
   ]
  },
  {
   "cell_type": "code",
   "execution_count": 6,
   "id": "e7855eb8",
   "metadata": {},
   "outputs": [
    {
     "data": {
      "text/plain": [
       "(8544, 1101, 2210)"
      ]
     },
     "execution_count": 6,
     "metadata": {},
     "output_type": "execute_result"
    }
   ],
   "source": [
    "dev = readdata(\"/Users/emrecanacikgoz/Desktop/Comp442/data/classes/dev.txt\")\n",
    "tst = readdata(\"/Users/emrecanacikgoz/Desktop/Comp442/data/classes/test.txt\")\n",
    "length.((trn, dev, tst))"
   ]
  },
  {
   "cell_type": "markdown",
   "id": "ef208af6",
   "metadata": {},
   "source": [
    "# Check GPU"
   ]
  },
  {
   "cell_type": "code",
   "execution_count": 7,
   "id": "ed96a5eb",
   "metadata": {},
   "outputs": [
    {
     "data": {
      "text/plain": [
       "param (generic function with 1 method)"
      ]
     },
     "execution_count": 7,
     "metadata": {},
     "output_type": "execute_result"
    }
   ],
   "source": [
    "if CUDA.functional()\n",
    "    param(dims...) = Param(CuArray(0.01f0 * randn(Float32, dims...)))\n",
    "else\n",
    "    param(dims...) = Param(Array(0.01f0 * randn(Float32, dims...)))\n",
    "end"
   ]
  },
  {
   "cell_type": "markdown",
   "id": "a84b29a2",
   "metadata": {},
   "source": [
    "# Model"
   ]
  },
  {
   "cell_type": "code",
   "execution_count": 8,
   "id": "c818318b",
   "metadata": {},
   "outputs": [
    {
     "data": {
      "text/plain": [
       "5-element Param{Vector{Float32}}:\n",
       " -0.0015436991\n",
       " -0.010080987\n",
       "  0.003832759\n",
       "  0.012655715\n",
       "  0.017913343"
      ]
     },
     "execution_count": 8,
     "metadata": {},
     "output_type": "execute_result"
    }
   ],
   "source": [
    "num_words = length(wdict)\n",
    "num_tags = length(tdict)\n",
    "W = param(num_tags, num_words)\n",
    "b = param(num_tags)"
   ]
  },
  {
   "cell_type": "markdown",
   "id": "d7d18e89",
   "metadata": {},
   "source": [
    "# Training"
   ]
  },
  {
   "cell_type": "code",
   "execution_count": 9,
   "id": "f5fef5a5",
   "metadata": {},
   "outputs": [
    {
     "data": {
      "text/plain": [
       "pred (generic function with 1 method)"
      ]
     },
     "execution_count": 9,
     "metadata": {},
     "output_type": "execute_result"
    }
   ],
   "source": [
    "# prediction function for the BOW model:\n",
    "pred(words) = b .+ sum(W[:,words], dims=2)"
   ]
  },
  {
   "cell_type": "code",
   "execution_count": 10,
   "id": "4b4339cb",
   "metadata": {},
   "outputs": [
    {
     "data": {
      "text/plain": [
       "loss (generic function with 1 method)"
      ]
     },
     "execution_count": 10,
     "metadata": {},
     "output_type": "execute_result"
    }
   ],
   "source": [
    "# loss function for the BOW model:\n",
    "function loss(words, tag)\n",
    "    scores = pred(words)\n",
    "    logprobs = scores .- log(sum(exp.(scores)))\n",
    "    -logprobs[tag]\n",
    "end"
   ]
  },
  {
   "cell_type": "code",
   "execution_count": 11,
   "id": "241976ee",
   "metadata": {},
   "outputs": [
    {
     "data": {
      "text/plain": [
       "accuracy (generic function with 1 method)"
      ]
     },
     "execution_count": 11,
     "metadata": {},
     "output_type": "execute_result"
    }
   ],
   "source": [
    "# report accuracy during training\n",
    "accuracy(data) = sum(argmax(pred(x))[1] == y for (x,y) in data) / length(data)"
   ]
  },
  {
   "cell_type": "code",
   "execution_count": 12,
   "id": "b5272d3b",
   "metadata": {},
   "outputs": [
    {
     "data": {
      "text/plain": [
       "train (generic function with 1 method)"
      ]
     },
     "execution_count": 12,
     "metadata": {},
     "output_type": "execute_result"
    }
   ],
   "source": [
    "function train(; nepochs = 10, lr = 0.01)\n",
    "    for epoch in 1:nepochs\n",
    "        shuffle!(trn)\n",
    "        for (x,y) in trn\n",
    "            ∇loss = @diff loss(x,y)\n",
    "            for p in params(∇loss)\n",
    "                p .= p - lr * grad(∇loss, p)\n",
    "            end\n",
    "        end\n",
    "        println((epoch = epoch, trn = accuracy(trn), dev = accuracy(dev)))\n",
    "    end\n",
    "end"
   ]
  },
  {
   "cell_type": "code",
   "execution_count": 13,
   "id": "4cfab30e",
   "metadata": {},
   "outputs": [
    {
     "name": "stdout",
     "output_type": "stream",
     "text": [
      "(epoch = 1, trn = 0.43562734082397003, dev = 0.3369663941871026)\n",
      "(epoch = 2, trn = 0.49929775280898875, dev = 0.3751135331516803)\n",
      "(epoch = 3, trn = 0.5568820224719101, dev = 0.3760217983651226)\n",
      "(epoch = 4, trn = 0.5775983146067416, dev = 0.3605812897366031)\n",
      "(epoch = 5, trn = 0.6216058052434457, dev = 0.36693914623069934)\n",
      "(epoch = 6, trn = 0.5786516853932584, dev = 0.38419618528610355)\n",
      "(epoch = 7, trn = 0.6558988764044944, dev = 0.3860127157129882)\n",
      "(epoch = 8, trn = 0.6891385767790262, dev = 0.3760217983651226)\n",
      "(epoch = 9, trn = 0.7112593632958801, dev = 0.3760217983651226)\n",
      "(epoch = 10, trn = 0.6876170411985019, dev = 0.3760217983651226)\n"
     ]
    }
   ],
   "source": [
    "train()"
   ]
  },
  {
   "cell_type": "code",
   "execution_count": null,
   "id": "a40a36ae",
   "metadata": {},
   "outputs": [],
   "source": []
  }
 ],
 "metadata": {
  "kernelspec": {
   "display_name": "Julia 1.7.2",
   "language": "julia",
   "name": "julia-1.7"
  },
  "language_info": {
   "file_extension": ".jl",
   "mimetype": "application/julia",
   "name": "julia",
   "version": "1.7.2"
  }
 },
 "nbformat": 4,
 "nbformat_minor": 5
}
