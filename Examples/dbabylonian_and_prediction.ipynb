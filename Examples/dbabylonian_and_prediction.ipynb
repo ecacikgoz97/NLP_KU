{
 "cells": [
  {
   "cell_type": "markdown",
   "id": "d17e74d2",
   "metadata": {},
   "source": [
    "# Imports"
   ]
  },
  {
   "cell_type": "code",
   "execution_count": 3,
   "id": "a0a5f44b",
   "metadata": {},
   "outputs": [],
   "source": [
    "# using Pkg; Pkg.add\n",
    "using Knet"
   ]
  },
  {
   "cell_type": "markdown",
   "id": "a884e966",
   "metadata": {},
   "source": [
    "### Question 1\n",
    "Explain how you can take the derivative of the following function at x=2 using Knet/AutoGrad: (bonus: what does this function calculate?)"
   ]
  },
  {
   "cell_type": "code",
   "execution_count": 4,
   "id": "8dc51320",
   "metadata": {},
   "outputs": [
    {
     "data": {
      "text/plain": [
       "babylonian (generic function with 1 method)"
      ]
     },
     "execution_count": 4,
     "metadata": {},
     "output_type": "execute_result"
    }
   ],
   "source": [
    "function babylonian(x)\n",
    "    y = 1\n",
    "    for i in 1:10\n",
    "        y = 0.5 * (y + x / y)\n",
    "    end\n",
    "    return y\n",
    "end"
   ]
  },
  {
   "cell_type": "code",
   "execution_count": 5,
   "id": "25dc6166",
   "metadata": {},
   "outputs": [
    {
     "data": {
      "text/plain": [
       "T(1.414213562373095)"
      ]
     },
     "execution_count": 5,
     "metadata": {},
     "output_type": "execute_result"
    }
   ],
   "source": [
    "x = Param(2)\n",
    "dbabylonian = @diff babylonian(x)"
   ]
  },
  {
   "cell_type": "code",
   "execution_count": 6,
   "id": "8135f59b",
   "metadata": {},
   "outputs": [
    {
     "data": {
      "text/plain": [
       "0.35355339059327373"
      ]
     },
     "execution_count": 6,
     "metadata": {},
     "output_type": "execute_result"
    }
   ],
   "source": [
    "grad(dbabylonian, x)"
   ]
  },
  {
   "cell_type": "markdown",
   "id": "ae97f3cf",
   "metadata": {},
   "source": [
    "### Question 3\n",
    "Write down the prediction function for the BOW model in Julia."
   ]
  },
  {
   "cell_type": "code",
   "execution_count": 7,
   "id": "d97bd898",
   "metadata": {},
   "outputs": [
    {
     "data": {
      "text/plain": [
       "4-element Vector{Int64}:\n",
       "   3\n",
       "  12\n",
       " 125\n",
       "   1"
      ]
     },
     "execution_count": 7,
     "metadata": {},
     "output_type": "execute_result"
    }
   ],
   "source": [
    "# The input is an array of integers representing words of a sentence\n",
    "x = [ 3, 12, 125, 1 ]"
   ]
  },
  {
   "cell_type": "code",
   "execution_count": 8,
   "id": "8aa02349",
   "metadata": {},
   "outputs": [
    {
     "data": {
      "text/plain": [
       "5-element Param{Vector{Float64}}:\n",
       " 0.0\n",
       " 0.0\n",
       " 0.0\n",
       " 0.0\n",
       " 0.0"
      ]
     },
     "execution_count": 8,
     "metadata": {},
     "output_type": "execute_result"
    }
   ],
   "source": [
    "# BOW score matrix and bias vector for 5 output classes, 10K vocabulary\n",
    "w = Param(randn(5, 10000))\n",
    "b = Param(zeros(5))"
   ]
  },
  {
   "cell_type": "code",
   "execution_count": 9,
   "id": "d023ece5",
   "metadata": {},
   "outputs": [
    {
     "data": {
      "text/plain": [
       "predict (generic function with 1 method)"
      ]
     },
     "execution_count": 9,
     "metadata": {},
     "output_type": "execute_result"
    }
   ],
   "source": [
    "function predict(x)\n",
    "    output = b .+ sum(w[:,x], dims=2)\n",
    "end"
   ]
  },
  {
   "cell_type": "code",
   "execution_count": 10,
   "id": "dc073c83",
   "metadata": {},
   "outputs": [
    {
     "data": {
      "text/plain": [
       "5×1 Matrix{Float64}:\n",
       "  3.216986009019349\n",
       "  1.6964625195807135\n",
       " -0.1451188196565174\n",
       " -1.1824021422526205\n",
       "  2.0152814160692785"
      ]
     },
     "execution_count": 10,
     "metadata": {},
     "output_type": "execute_result"
    }
   ],
   "source": [
    "predict(x)"
   ]
  },
  {
   "cell_type": "code",
   "execution_count": null,
   "id": "be0a80ee",
   "metadata": {},
   "outputs": [],
   "source": []
  }
 ],
 "metadata": {
  "kernelspec": {
   "display_name": "Julia 1.7.2",
   "language": "julia",
   "name": "julia-1.7"
  },
  "language_info": {
   "file_extension": ".jl",
   "mimetype": "application/julia",
   "name": "julia",
   "version": "1.7.2"
  }
 },
 "nbformat": 4,
 "nbformat_minor": 5
}
