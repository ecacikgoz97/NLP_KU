{
 "cells": [
  {
   "cell_type": "code",
   "execution_count": 1,
   "id": "6b876dd7",
   "metadata": {},
   "outputs": [],
   "source": [
    "using Knet,StatsBase"
   ]
  },
  {
   "cell_type": "code",
   "execution_count": 4,
   "id": "bf672e8e",
   "metadata": {},
   "outputs": [
    {
     "data": {
      "text/latex": [
       "\\begin{verbatim}\n",
       "vec(a::AbstractArray) -> AbstractVector\n",
       "\\end{verbatim}\n",
       "Reshape the array \\texttt{a} as a one-dimensional column vector. Return \\texttt{a} if it is already an \\texttt{AbstractVector}. The resulting array shares the same underlying data as \\texttt{a}, so it will only be mutable if \\texttt{a} is mutable, in which case modifying one will also modify the other.\n",
       "\n",
       "\\section{Examples}\n",
       "\\begin{verbatim}\n",
       "julia> a = [1 2 3; 4 5 6]\n",
       "2×3 Matrix{Int64}:\n",
       " 1  2  3\n",
       " 4  5  6\n",
       "\n",
       "julia> vec(a)\n",
       "6-element Vector{Int64}:\n",
       " 1\n",
       " 4\n",
       " 2\n",
       " 5\n",
       " 3\n",
       " 6\n",
       "\n",
       "julia> vec(1:3)\n",
       "1:3\n",
       "\\end{verbatim}\n",
       "See also \\href{@ref}{\\texttt{reshape}}, \\href{@ref}{\\texttt{dropdims}}.\n",
       "\n"
      ],
      "text/markdown": [
       "```\n",
       "vec(a::AbstractArray) -> AbstractVector\n",
       "```\n",
       "\n",
       "Reshape the array `a` as a one-dimensional column vector. Return `a` if it is already an `AbstractVector`. The resulting array shares the same underlying data as `a`, so it will only be mutable if `a` is mutable, in which case modifying one will also modify the other.\n",
       "\n",
       "# Examples\n",
       "\n",
       "```jldoctest\n",
       "julia> a = [1 2 3; 4 5 6]\n",
       "2×3 Matrix{Int64}:\n",
       " 1  2  3\n",
       " 4  5  6\n",
       "\n",
       "julia> vec(a)\n",
       "6-element Vector{Int64}:\n",
       " 1\n",
       " 4\n",
       " 2\n",
       " 5\n",
       " 3\n",
       " 6\n",
       "\n",
       "julia> vec(1:3)\n",
       "1:3\n",
       "```\n",
       "\n",
       "See also [`reshape`](@ref), [`dropdims`](@ref).\n"
      ],
      "text/plain": [
       "\u001b[36m  vec(a::AbstractArray) -> AbstractVector\u001b[39m\n",
       "\n",
       "  Reshape the array \u001b[36ma\u001b[39m as a one-dimensional column vector. Return \u001b[36ma\u001b[39m if it is\n",
       "  already an \u001b[36mAbstractVector\u001b[39m. The resulting array shares the same underlying\n",
       "  data as \u001b[36ma\u001b[39m, so it will only be mutable if \u001b[36ma\u001b[39m is mutable, in which case\n",
       "  modifying one will also modify the other.\n",
       "\n",
       "\u001b[1m  Examples\u001b[22m\n",
       "\u001b[1m  ≡≡≡≡≡≡≡≡≡≡\u001b[22m\n",
       "\n",
       "\u001b[36m  julia> a = [1 2 3; 4 5 6]\u001b[39m\n",
       "\u001b[36m  2×3 Matrix{Int64}:\u001b[39m\n",
       "\u001b[36m   1  2  3\u001b[39m\n",
       "\u001b[36m   4  5  6\u001b[39m\n",
       "\u001b[36m  \u001b[39m\n",
       "\u001b[36m  julia> vec(a)\u001b[39m\n",
       "\u001b[36m  6-element Vector{Int64}:\u001b[39m\n",
       "\u001b[36m   1\u001b[39m\n",
       "\u001b[36m   4\u001b[39m\n",
       "\u001b[36m   2\u001b[39m\n",
       "\u001b[36m   5\u001b[39m\n",
       "\u001b[36m   3\u001b[39m\n",
       "\u001b[36m   6\u001b[39m\n",
       "\u001b[36m  \u001b[39m\n",
       "\u001b[36m  julia> vec(1:3)\u001b[39m\n",
       "\u001b[36m  1:3\u001b[39m\n",
       "\n",
       "  See also \u001b[36mreshape\u001b[39m, \u001b[36mdropdims\u001b[39m."
      ]
     },
     "execution_count": 4,
     "metadata": {},
     "output_type": "execute_result"
    }
   ],
   "source": [
    "?vec()"
   ]
  },
  {
   "cell_type": "code",
   "execution_count": 2,
   "id": "2a1a5ec9",
   "metadata": {},
   "outputs": [
    {
     "data": {
      "text/latex": [
       "\\begin{verbatim}\n",
       "vec(a::AbstractArray) -> AbstractVector\n",
       "\\end{verbatim}\n",
       "Reshape the array \\texttt{a} as a one-dimensional column vector. Return \\texttt{a} if it is already an \\texttt{AbstractVector}. The resulting array shares the same underlying data as \\texttt{a}, so it will only be mutable if \\texttt{a} is mutable, in which case modifying one will also modify the other.\n",
       "\n",
       "\\section{Examples}\n",
       "\\begin{verbatim}\n",
       "julia> a = [1 2 3; 4 5 6]\n",
       "2×3 Matrix{Int64}:\n",
       " 1  2  3\n",
       " 4  5  6\n",
       "\n",
       "julia> vec(a)\n",
       "6-element Vector{Int64}:\n",
       " 1\n",
       " 4\n",
       " 2\n",
       " 5\n",
       " 3\n",
       " 6\n",
       "\n",
       "julia> vec(1:3)\n",
       "1:3\n",
       "\\end{verbatim}\n",
       "See also \\href{@ref}{\\texttt{reshape}}, \\href{@ref}{\\texttt{dropdims}}.\n",
       "\n"
      ],
      "text/markdown": [
       "```\n",
       "vec(a::AbstractArray) -> AbstractVector\n",
       "```\n",
       "\n",
       "Reshape the array `a` as a one-dimensional column vector. Return `a` if it is already an `AbstractVector`. The resulting array shares the same underlying data as `a`, so it will only be mutable if `a` is mutable, in which case modifying one will also modify the other.\n",
       "\n",
       "# Examples\n",
       "\n",
       "```jldoctest\n",
       "julia> a = [1 2 3; 4 5 6]\n",
       "2×3 Matrix{Int64}:\n",
       " 1  2  3\n",
       " 4  5  6\n",
       "\n",
       "julia> vec(a)\n",
       "6-element Vector{Int64}:\n",
       " 1\n",
       " 4\n",
       " 2\n",
       " 5\n",
       " 3\n",
       " 6\n",
       "\n",
       "julia> vec(1:3)\n",
       "1:3\n",
       "```\n",
       "\n",
       "See also [`reshape`](@ref), [`dropdims`](@ref).\n"
      ],
      "text/plain": [
       "\u001b[36m  vec(a::AbstractArray) -> AbstractVector\u001b[39m\n",
       "\n",
       "  Reshape the array \u001b[36ma\u001b[39m as a one-dimensional column vector. Return \u001b[36ma\u001b[39m if it is\n",
       "  already an \u001b[36mAbstractVector\u001b[39m. The resulting array shares the same underlying\n",
       "  data as \u001b[36ma\u001b[39m, so it will only be mutable if \u001b[36ma\u001b[39m is mutable, in which case\n",
       "  modifying one will also modify the other.\n",
       "\n",
       "\u001b[1m  Examples\u001b[22m\n",
       "\u001b[1m  ≡≡≡≡≡≡≡≡≡≡\u001b[22m\n",
       "\n",
       "\u001b[36m  julia> a = [1 2 3; 4 5 6]\u001b[39m\n",
       "\u001b[36m  2×3 Matrix{Int64}:\u001b[39m\n",
       "\u001b[36m   1  2  3\u001b[39m\n",
       "\u001b[36m   4  5  6\u001b[39m\n",
       "\u001b[36m  \u001b[39m\n",
       "\u001b[36m  julia> vec(a)\u001b[39m\n",
       "\u001b[36m  6-element Vector{Int64}:\u001b[39m\n",
       "\u001b[36m   1\u001b[39m\n",
       "\u001b[36m   4\u001b[39m\n",
       "\u001b[36m   2\u001b[39m\n",
       "\u001b[36m   5\u001b[39m\n",
       "\u001b[36m   3\u001b[39m\n",
       "\u001b[36m   6\u001b[39m\n",
       "\u001b[36m  \u001b[39m\n",
       "\u001b[36m  julia> vec(1:3)\u001b[39m\n",
       "\u001b[36m  1:3\u001b[39m\n",
       "\n",
       "  See also \u001b[36mreshape\u001b[39m, \u001b[36mdropdims\u001b[39m."
      ]
     },
     "execution_count": 2,
     "metadata": {},
     "output_type": "execute_result"
    }
   ],
   "source": [
    "?vec()"
   ]
  },
  {
   "cell_type": "code",
   "execution_count": 6,
   "id": "a7930e0e",
   "metadata": {},
   "outputs": [
    {
     "data": {
      "text/latex": [
       "\\begin{verbatim}\n",
       "sample([rng], a, [wv::AbstractWeights])\n",
       "\\end{verbatim}\n",
       "Select a single random element of \\texttt{a}. Sampling probabilities are proportional to the weights given in \\texttt{wv}, if provided.\n",
       "\n",
       "Optionally specify a random number generator \\texttt{rng} as the first argument (defaults to \\texttt{Random.GLOBAL\\_RNG}).\n",
       "\n",
       "\\rule{\\textwidth}{1pt}\n",
       "\\begin{verbatim}\n",
       "sample([rng], a, [wv::AbstractWeights], n::Integer; replace=true, ordered=false)\n",
       "\\end{verbatim}\n",
       "Select a random, optionally weighted sample of size \\texttt{n} from an array \\texttt{a} using a polyalgorithm. Sampling probabilities are proportional to the weights given in \\texttt{wv}, if provided. \\texttt{replace} dictates whether sampling is performed with replacement. \\texttt{ordered} dictates whether an ordered sample (also called a sequential sample, i.e. a sample where items appear in the same order as in \\texttt{a}) should be taken.\n",
       "\n",
       "Optionally specify a random number generator \\texttt{rng} as the first argument (defaults to \\texttt{Random.GLOBAL\\_RNG}).\n",
       "\n",
       "\\rule{\\textwidth}{1pt}\n",
       "\\begin{verbatim}\n",
       "sample([rng], a, [wv::AbstractWeights], dims::Dims; replace=true, ordered=false)\n",
       "\\end{verbatim}\n",
       "Select a random, optionally weighted sample from an array \\texttt{a} specifying the dimensions \\texttt{dims} of the output array. Sampling probabilities are proportional to the weights given in \\texttt{wv}, if provided. \\texttt{replace} dictates whether sampling is performed with replacement. \\texttt{ordered} dictates whether an ordered sample (also called a sequential sample, i.e. a sample where items appear in the same order as in \\texttt{a}) should be taken.\n",
       "\n",
       "Optionally specify a random number generator \\texttt{rng} as the first argument (defaults to \\texttt{Random.GLOBAL\\_RNG}).\n",
       "\n",
       "\\rule{\\textwidth}{1pt}\n",
       "\\begin{verbatim}\n",
       "sample([rng], wv::AbstractWeights)\n",
       "\\end{verbatim}\n",
       "Select a single random integer in \\texttt{1:length(wv)} with probabilities proportional to the weights given in \\texttt{wv}.\n",
       "\n",
       "Optionally specify a random number generator \\texttt{rng} as the first argument (defaults to \\texttt{Random.GLOBAL\\_RNG}).\n",
       "\n"
      ],
      "text/markdown": [
       "```\n",
       "sample([rng], a, [wv::AbstractWeights])\n",
       "```\n",
       "\n",
       "Select a single random element of `a`. Sampling probabilities are proportional to the weights given in `wv`, if provided.\n",
       "\n",
       "Optionally specify a random number generator `rng` as the first argument (defaults to `Random.GLOBAL_RNG`).\n",
       "\n",
       "---\n",
       "\n",
       "```\n",
       "sample([rng], a, [wv::AbstractWeights], n::Integer; replace=true, ordered=false)\n",
       "```\n",
       "\n",
       "Select a random, optionally weighted sample of size `n` from an array `a` using a polyalgorithm. Sampling probabilities are proportional to the weights given in `wv`, if provided. `replace` dictates whether sampling is performed with replacement. `ordered` dictates whether an ordered sample (also called a sequential sample, i.e. a sample where items appear in the same order as in `a`) should be taken.\n",
       "\n",
       "Optionally specify a random number generator `rng` as the first argument (defaults to `Random.GLOBAL_RNG`).\n",
       "\n",
       "---\n",
       "\n",
       "```\n",
       "sample([rng], a, [wv::AbstractWeights], dims::Dims; replace=true, ordered=false)\n",
       "```\n",
       "\n",
       "Select a random, optionally weighted sample from an array `a` specifying the dimensions `dims` of the output array. Sampling probabilities are proportional to the weights given in `wv`, if provided. `replace` dictates whether sampling is performed with replacement. `ordered` dictates whether an ordered sample (also called a sequential sample, i.e. a sample where items appear in the same order as in `a`) should be taken.\n",
       "\n",
       "Optionally specify a random number generator `rng` as the first argument (defaults to `Random.GLOBAL_RNG`).\n",
       "\n",
       "---\n",
       "\n",
       "```\n",
       "sample([rng], wv::AbstractWeights)\n",
       "```\n",
       "\n",
       "Select a single random integer in `1:length(wv)` with probabilities proportional to the weights given in `wv`.\n",
       "\n",
       "Optionally specify a random number generator `rng` as the first argument (defaults to `Random.GLOBAL_RNG`).\n"
      ],
      "text/plain": [
       "\u001b[36m  sample([rng], a, [wv::AbstractWeights])\u001b[39m\n",
       "\n",
       "  Select a single random element of \u001b[36ma\u001b[39m. Sampling probabilities are proportional\n",
       "  to the weights given in \u001b[36mwv\u001b[39m, if provided.\n",
       "\n",
       "  Optionally specify a random number generator \u001b[36mrng\u001b[39m as the first argument\n",
       "  (defaults to \u001b[36mRandom.GLOBAL_RNG\u001b[39m).\n",
       "\n",
       "  ────────────────────────────────────────────────────────────────────────────\n",
       "\n",
       "\u001b[36m  sample([rng], a, [wv::AbstractWeights], n::Integer; replace=true, ordered=false)\u001b[39m\n",
       "\n",
       "  Select a random, optionally weighted sample of size \u001b[36mn\u001b[39m from an array \u001b[36ma\u001b[39m using\n",
       "  a polyalgorithm. Sampling probabilities are proportional to the weights\n",
       "  given in \u001b[36mwv\u001b[39m, if provided. \u001b[36mreplace\u001b[39m dictates whether sampling is performed\n",
       "  with replacement. \u001b[36mordered\u001b[39m dictates whether an ordered sample (also called a\n",
       "  sequential sample, i.e. a sample where items appear in the same order as in\n",
       "  \u001b[36ma\u001b[39m) should be taken.\n",
       "\n",
       "  Optionally specify a random number generator \u001b[36mrng\u001b[39m as the first argument\n",
       "  (defaults to \u001b[36mRandom.GLOBAL_RNG\u001b[39m).\n",
       "\n",
       "  ────────────────────────────────────────────────────────────────────────────\n",
       "\n",
       "\u001b[36m  sample([rng], a, [wv::AbstractWeights], dims::Dims; replace=true, ordered=false)\u001b[39m\n",
       "\n",
       "  Select a random, optionally weighted sample from an array \u001b[36ma\u001b[39m specifying the\n",
       "  dimensions \u001b[36mdims\u001b[39m of the output array. Sampling probabilities are proportional\n",
       "  to the weights given in \u001b[36mwv\u001b[39m, if provided. \u001b[36mreplace\u001b[39m dictates whether sampling\n",
       "  is performed with replacement. \u001b[36mordered\u001b[39m dictates whether an ordered sample\n",
       "  (also called a sequential sample, i.e. a sample where items appear in the\n",
       "  same order as in \u001b[36ma\u001b[39m) should be taken.\n",
       "\n",
       "  Optionally specify a random number generator \u001b[36mrng\u001b[39m as the first argument\n",
       "  (defaults to \u001b[36mRandom.GLOBAL_RNG\u001b[39m).\n",
       "\n",
       "  ────────────────────────────────────────────────────────────────────────────\n",
       "\n",
       "\u001b[36m  sample([rng], wv::AbstractWeights)\u001b[39m\n",
       "\n",
       "  Select a single random integer in \u001b[36m1:length(wv)\u001b[39m with probabilities\n",
       "  proportional to the weights given in \u001b[36mwv\u001b[39m.\n",
       "\n",
       "  Optionally specify a random number generator \u001b[36mrng\u001b[39m as the first argument\n",
       "  (defaults to \u001b[36mRandom.GLOBAL_RNG\u001b[39m)."
      ]
     },
     "execution_count": 6,
     "metadata": {},
     "output_type": "execute_result"
    }
   ],
   "source": [
    "?sample()"
   ]
  },
  {
   "cell_type": "code",
   "execution_count": 7,
   "id": "32a5dce7",
   "metadata": {},
   "outputs": [
    {
     "data": {
      "text/latex": [
       "\\begin{verbatim}\n",
       "softmax(x; dims=:)\n",
       "logsoftmax(x; dims=:)\n",
       "\\end{verbatim}\n",
       "Treat entries in \\texttt{x} as as unnormalized log probabilities and return normalized (log) probabilities, i.e. \n",
       "\n",
       "\\begin{verbatim}\n",
       "softmax(x; dims) = exp.(x) ./ sum(exp.(x); dims=dims)\n",
       "logsoftmax(x; dims) = x .- log.(sum(exp.(x); dims=dims))\n",
       "\\end{verbatim}\n",
       "For numerical stability \\texttt{x = x .- maximum(x,dims=dims)} is performed before exponentiation.\n",
       "\n",
       "\\texttt{dims} is an optional argument, if not specified the normalization is over the whole \\texttt{x}, otherwise the normalization is performed over the given dimensions.  In particular, if \\texttt{x} is a matrix, \\texttt{dims=1} normalizes columns of \\texttt{x} and \\texttt{dims=2} normalizes rows of \\texttt{x}.\n",
       "\n"
      ],
      "text/markdown": [
       "```\n",
       "softmax(x; dims=:)\n",
       "logsoftmax(x; dims=:)\n",
       "```\n",
       "\n",
       "Treat entries in `x` as as unnormalized log probabilities and return normalized (log) probabilities, i.e. \n",
       "\n",
       "```\n",
       "softmax(x; dims) = exp.(x) ./ sum(exp.(x); dims=dims)\n",
       "logsoftmax(x; dims) = x .- log.(sum(exp.(x); dims=dims))\n",
       "```\n",
       "\n",
       "For numerical stability `x = x .- maximum(x,dims=dims)` is performed before exponentiation.\n",
       "\n",
       "`dims` is an optional argument, if not specified the normalization is over the whole `x`, otherwise the normalization is performed over the given dimensions.  In particular, if `x` is a matrix, `dims=1` normalizes columns of `x` and `dims=2` normalizes rows of `x`.\n"
      ],
      "text/plain": [
       "\u001b[36m  softmax(x; dims=:)\u001b[39m\n",
       "\u001b[36m  logsoftmax(x; dims=:)\u001b[39m\n",
       "\n",
       "  Treat entries in \u001b[36mx\u001b[39m as as unnormalized log probabilities and return\n",
       "  normalized (log) probabilities, i.e.\n",
       "\n",
       "\u001b[36m  softmax(x; dims) = exp.(x) ./ sum(exp.(x); dims=dims)\u001b[39m\n",
       "\u001b[36m  logsoftmax(x; dims) = x .- log.(sum(exp.(x); dims=dims))\u001b[39m\n",
       "\n",
       "  For numerical stability \u001b[36mx = x .- maximum(x,dims=dims)\u001b[39m is performed before\n",
       "  exponentiation.\n",
       "\n",
       "  \u001b[36mdims\u001b[39m is an optional argument, if not specified the normalization is over the\n",
       "  whole \u001b[36mx\u001b[39m, otherwise the normalization is performed over the given dimensions.\n",
       "  In particular, if \u001b[36mx\u001b[39m is a matrix, \u001b[36mdims=1\u001b[39m normalizes columns of \u001b[36mx\u001b[39m and \u001b[36mdims=2\u001b[39m\n",
       "  normalizes rows of \u001b[36mx\u001b[39m."
      ]
     },
     "execution_count": 7,
     "metadata": {},
     "output_type": "execute_result"
    }
   ],
   "source": [
    "?softmax()"
   ]
  },
  {
   "cell_type": "code",
   "execution_count": 8,
   "id": "009954fd",
   "metadata": {},
   "outputs": [
    {
     "name": "stdout",
     "output_type": "stream",
     "text": [
      "search: \u001b[0m\u001b[1mP\u001b[22m\u001b[0m\u001b[1mr\u001b[22m\u001b[0m\u001b[1mo\u001b[22m\u001b[0m\u001b[1mb\u001b[22m\u001b[0m\u001b[1ma\u001b[22m\u001b[0m\u001b[1mb\u001b[22m\u001b[0m\u001b[1mi\u001b[22m\u001b[0m\u001b[1ml\u001b[22m\u001b[0m\u001b[1mi\u001b[22m\u001b[0m\u001b[1mt\u001b[22m\u001b[0m\u001b[1my\u001b[22m\u001b[0m\u001b[1mW\u001b[22m\u001b[0m\u001b[1me\u001b[22m\u001b[0m\u001b[1mi\u001b[22m\u001b[0m\u001b[1mg\u001b[22m\u001b[0m\u001b[1mh\u001b[22m\u001b[0m\u001b[1mt\u001b[22m\u001b[0m\u001b[1ms\u001b[22m\n",
      "\n"
     ]
    },
    {
     "data": {
      "text/latex": [
       "\\begin{verbatim}\n",
       "ProbabilityWeights(vs, wsum=sum(vs))\n",
       "\\end{verbatim}\n",
       "Construct a \\texttt{ProbabilityWeights} vector with weight values \\texttt{vs}. A precomputed sum may be provided as \\texttt{wsum}.\n",
       "\n",
       "Probability weights represent the inverse of the sampling probability for each observation, providing a correction mechanism for under- or over-sampling certain population groups. These weights may also be referred to as sampling weights.\n",
       "\n"
      ],
      "text/markdown": [
       "```\n",
       "ProbabilityWeights(vs, wsum=sum(vs))\n",
       "```\n",
       "\n",
       "Construct a `ProbabilityWeights` vector with weight values `vs`. A precomputed sum may be provided as `wsum`.\n",
       "\n",
       "Probability weights represent the inverse of the sampling probability for each observation, providing a correction mechanism for under- or over-sampling certain population groups. These weights may also be referred to as sampling weights.\n"
      ],
      "text/plain": [
       "\u001b[36m  ProbabilityWeights(vs, wsum=sum(vs))\u001b[39m\n",
       "\n",
       "  Construct a \u001b[36mProbabilityWeights\u001b[39m vector with weight values \u001b[36mvs\u001b[39m. A precomputed\n",
       "  sum may be provided as \u001b[36mwsum\u001b[39m.\n",
       "\n",
       "  Probability weights represent the inverse of the sampling probability for\n",
       "  each observation, providing a correction mechanism for under- or\n",
       "  over-sampling certain population groups. These weights may also be referred\n",
       "  to as sampling weights."
      ]
     },
     "execution_count": 8,
     "metadata": {},
     "output_type": "execute_result"
    }
   ],
   "source": [
    "?ProbabilityWeights"
   ]
  },
  {
   "cell_type": "code",
   "execution_count": 9,
   "id": "8b1bbfad",
   "metadata": {},
   "outputs": [
    {
     "data": {
      "text/latex": [
       "\\begin{verbatim}\n",
       "join([io::IO,] iterator [, delim [, last]])\n",
       "\\end{verbatim}\n",
       "Join any \\texttt{iterator} into a single string, inserting the given delimiter (if any) between adjacent items.  If \\texttt{last} is given, it will be used instead of \\texttt{delim} between the last two items.  Each item of \\texttt{iterator} is converted to a string via \\texttt{print(io::IOBuffer, x)}. If \\texttt{io} is given, the result is written to \\texttt{io} rather than returned as a \\texttt{String}.\n",
       "\n",
       "\\section{Examples}\n",
       "\\begin{verbatim}\n",
       "julia> join([\"apples\", \"bananas\", \"pineapples\"], \", \", \" and \")\n",
       "\"apples, bananas and pineapples\"\n",
       "\n",
       "julia> join([1,2,3,4,5])\n",
       "\"12345\"\n",
       "\\end{verbatim}\n"
      ],
      "text/markdown": [
       "```\n",
       "join([io::IO,] iterator [, delim [, last]])\n",
       "```\n",
       "\n",
       "Join any `iterator` into a single string, inserting the given delimiter (if any) between adjacent items.  If `last` is given, it will be used instead of `delim` between the last two items.  Each item of `iterator` is converted to a string via `print(io::IOBuffer, x)`. If `io` is given, the result is written to `io` rather than returned as a `String`.\n",
       "\n",
       "# Examples\n",
       "\n",
       "```jldoctest\n",
       "julia> join([\"apples\", \"bananas\", \"pineapples\"], \", \", \" and \")\n",
       "\"apples, bananas and pineapples\"\n",
       "\n",
       "julia> join([1,2,3,4,5])\n",
       "\"12345\"\n",
       "```\n"
      ],
      "text/plain": [
       "\u001b[36m  join([io::IO,] iterator [, delim [, last]])\u001b[39m\n",
       "\n",
       "  Join any \u001b[36miterator\u001b[39m into a single string, inserting the given delimiter (if\n",
       "  any) between adjacent items. If \u001b[36mlast\u001b[39m is given, it will be used instead of\n",
       "  \u001b[36mdelim\u001b[39m between the last two items. Each item of \u001b[36miterator\u001b[39m is converted to a\n",
       "  string via \u001b[36mprint(io::IOBuffer, x)\u001b[39m. If \u001b[36mio\u001b[39m is given, the result is written to\n",
       "  \u001b[36mio\u001b[39m rather than returned as a \u001b[36mString\u001b[39m.\n",
       "\n",
       "\u001b[1m  Examples\u001b[22m\n",
       "\u001b[1m  ≡≡≡≡≡≡≡≡≡≡\u001b[22m\n",
       "\n",
       "\u001b[36m  julia> join([\"apples\", \"bananas\", \"pineapples\"], \", \", \" and \")\u001b[39m\n",
       "\u001b[36m  \"apples, bananas and pineapples\"\u001b[39m\n",
       "\u001b[36m  \u001b[39m\n",
       "\u001b[36m  julia> join([1,2,3,4,5])\u001b[39m\n",
       "\u001b[36m  \"12345\"\u001b[39m"
      ]
     },
     "execution_count": 9,
     "metadata": {},
     "output_type": "execute_result"
    }
   ],
   "source": [
    "?join()"
   ]
  },
  {
   "cell_type": "code",
   "execution_count": null,
   "id": "5887b0ea",
   "metadata": {},
   "outputs": [],
   "source": []
  }
 ],
 "metadata": {
  "kernelspec": {
   "display_name": "Julia 1.7.2",
   "language": "julia",
   "name": "julia-1.7"
  },
  "language_info": {
   "file_extension": ".jl",
   "mimetype": "application/julia",
   "name": "julia",
   "version": "1.7.2"
  }
 },
 "nbformat": 4,
 "nbformat_minor": 5
}
