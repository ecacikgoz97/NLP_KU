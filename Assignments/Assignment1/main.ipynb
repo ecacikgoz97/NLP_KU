{
 "cells": [
  {
   "cell_type": "markdown",
   "id": "131e8b36",
   "metadata": {},
   "source": [
    "# Large Movie Review Dataset\n",
    "# By Emre Can Acikgoz\n",
    "### Naive Bayes Sentiment Analysis in 8 cells"
   ]
  },
  {
   "cell_type": "markdown",
   "id": "f279b801",
   "metadata": {},
   "source": [
    "## Imports"
   ]
  },
  {
   "cell_type": "code",
   "execution_count": 1,
   "id": "97b66800",
   "metadata": {},
   "outputs": [],
   "source": [
    "using Statistics\n",
    "include(\"utils.jl\");\n",
    "include(\"nb.jl\");"
   ]
  },
  {
   "cell_type": "markdown",
   "id": "22be0156",
   "metadata": {},
   "source": [
    "## Configurations"
   ]
  },
  {
   "cell_type": "code",
   "execution_count": 2,
   "id": "6acf71db",
   "metadata": {},
   "outputs": [],
   "source": [
    "# Data paths\n",
    "PATH_TRAIN_POS = \"/Users/emrecanacikgoz/Desktop/Comp442/data/aclImdb/train/pos\";\n",
    "PATH_TRAIN_NEG = \"/Users/emrecanacikgoz/Desktop/Comp442/data/aclImdb/train/neg\";\n",
    "PATH_TEST_POS  = \"/Users/emrecanacikgoz/Desktop/Comp442/data/aclImdb/test/pos\";\n",
    "PATH_TEST_NEG  = \"/Users/emrecanacikgoz/Desktop/Comp442/data/aclImdb/test/neg\";"
   ]
  },
  {
   "cell_type": "markdown",
   "id": "d70feab9",
   "metadata": {},
   "source": [
    "## Data Pre-Processing"
   ]
  },
  {
   "cell_type": "code",
   "execution_count": 3,
   "id": "38fd953c",
   "metadata": {},
   "outputs": [],
   "source": [
    "# Convert word to IDs\n",
    "wdict = Dict()\n",
    "w2i(x) = get!(wdict, x, 1+length(wdict));"
   ]
  },
  {
   "cell_type": "code",
   "execution_count": 4,
   "id": "ea1b0ff1",
   "metadata": {},
   "outputs": [],
   "source": [
    "# Get Dataloader by using: lowercasing,igoring some punctuations, splitting, converting id's\n",
    "trnPos  = DataLoader(PATH_TRAIN_POS, \"pos\"); trnNeg  = DataLoader(PATH_TRAIN_NEG, \"neg\"); \n",
    "testPos = DataLoader(PATH_TEST_POS,  \"pos\"); testNeg = DataLoader(PATH_TEST_NEG,  \"neg\"); \n",
    "trn     = vcat(trnPos, trnNeg); test = vcat(testPos, testNeg);"
   ]
  },
  {
   "cell_type": "markdown",
   "id": "d7c734f0",
   "metadata": {},
   "source": [
    "# Naive Bayes Approach"
   ]
  },
  {
   "cell_type": "code",
   "execution_count": 5,
   "id": "3dfe11ca",
   "metadata": {},
   "outputs": [],
   "source": [
    "# Count each word for related class\n",
    "wordsPos_train = build_wordcount_dict(trnPos);\n",
    "wordsNeg_train = build_wordcount_dict(trnNeg);\n",
    "wordsPos_test  = build_wordcount_dict(testPos);\n",
    "wordsNeg_test  = build_wordcount_dict(testNeg);"
   ]
  },
  {
   "cell_type": "code",
   "execution_count": 6,
   "id": "c62b896e",
   "metadata": {},
   "outputs": [],
   "source": [
    "# Get Logarithmic Frequencies for related class\n",
    "WordPos_freq_train = dictFrequency(wordsPos_train, length(wordsPos_train));\n",
    "WordNeg_freq_train = dictFrequency(wordsNeg_train, length(wordsNeg_train));\n",
    "WordPos_freq_test  = dictFrequency(wordsPos_test,  length(wordsPos_test));\n",
    "WordNeg_freq_test  = dictFrequency(wordsNeg_test,  length(wordsNeg_test));"
   ]
  },
  {
   "cell_type": "markdown",
   "id": "9cc93f8d",
   "metadata": {},
   "source": [
    "# Training and Evaluation"
   ]
  },
  {
   "cell_type": "code",
   "execution_count": 7,
   "id": "89871a94",
   "metadata": {},
   "outputs": [
    {
     "name": "stdout",
     "output_type": "stream",
     "text": [
      "  0.916919 seconds (7.98 M allocations: 289.407 MiB, 30.26% gc time, 13.73% compilation time)\n",
      "Training set accuracy: 88.164%\n"
     ]
    }
   ],
   "source": [
    "# Training\n",
    "train_acc = @time accuracy(trn, WordPos_freq_train, WordNeg_freq_train);\n",
    "println(\"Training set accuracy: $(train_acc*100)%\")"
   ]
  },
  {
   "cell_type": "code",
   "execution_count": 8,
   "id": "cec17808",
   "metadata": {},
   "outputs": [
    {
     "name": "stdout",
     "output_type": "stream",
     "text": [
      "  0.568173 seconds (7.57 M allocations: 269.820 MiB, 8.13% gc time)\n",
      "Test set accuracy: 87.884%\n"
     ]
    }
   ],
   "source": [
    "# Evaluation\n",
    "val_acc = @time accuracy(test, WordPos_freq_test, WordNeg_freq_test);\n",
    "println(\"Test set accuracy: $(val_acc*100)%\")"
   ]
  },
  {
   "cell_type": "code",
   "execution_count": null,
   "id": "67144c6c",
   "metadata": {},
   "outputs": [],
   "source": []
  }
 ],
 "metadata": {
  "kernelspec": {
   "display_name": "Julia 1.7.2",
   "language": "julia",
   "name": "julia-1.7"
  },
  "language_info": {
   "file_extension": ".jl",
   "mimetype": "application/julia",
   "name": "julia",
   "version": "1.7.2"
  }
 },
 "nbformat": 4,
 "nbformat_minor": 5
}
