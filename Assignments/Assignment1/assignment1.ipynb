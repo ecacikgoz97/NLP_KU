{
 "cells": [
  {
   "cell_type": "markdown",
   "id": "131e8b36",
   "metadata": {},
   "source": [
    "# Large Movie Review Dataset\n",
    "# By Emre Can Acikgoz"
   ]
  },
  {
   "cell_type": "markdown",
   "id": "f279b801",
   "metadata": {},
   "source": [
    "## Imports"
   ]
  },
  {
   "cell_type": "code",
   "execution_count": 1,
   "id": "97b66800",
   "metadata": {},
   "outputs": [],
   "source": [
    "using Languages, Statistics\n",
    "include(\"utils2.jl\");\n",
    "include(\"nb.jl\");"
   ]
  },
  {
   "cell_type": "markdown",
   "id": "22be0156",
   "metadata": {},
   "source": [
    "## Configurations"
   ]
  },
  {
   "cell_type": "code",
   "execution_count": 2,
   "id": "6acf71db",
   "metadata": {},
   "outputs": [],
   "source": [
    "PATH_TRAIN_POS = \"/Users/emrecanacikgoz/Desktop/Comp442/data/aclImdb/train/pos\";\n",
    "PATH_TRAIN_NEG = \"/Users/emrecanacikgoz/Desktop/Comp442/data/aclImdb/train/neg\";\n",
    "PATH_TEST_POS  = \"/Users/emrecanacikgoz/Desktop/Comp442/data/aclImdb/test/pos\";\n",
    "PATH_TEST_NEG  = \"/Users/emrecanacikgoz/Desktop/Comp442/data/aclImdb/test/neg\";"
   ]
  },
  {
   "cell_type": "markdown",
   "id": "d70feab9",
   "metadata": {},
   "source": [
    "## Data Pre-Processing"
   ]
  },
  {
   "cell_type": "code",
   "execution_count": 3,
   "id": "38fd953c",
   "metadata": {},
   "outputs": [
    {
     "data": {
      "text/plain": [
       "w2i (generic function with 1 method)"
      ]
     },
     "execution_count": 3,
     "metadata": {},
     "output_type": "execute_result"
    }
   ],
   "source": [
    "wdict = Dict()\n",
    "w2i(x) = get!(wdict, x, 1+length(wdict))"
   ]
  },
  {
   "cell_type": "code",
   "execution_count": 4,
   "id": "64f8a2b5",
   "metadata": {},
   "outputs": [
    {
     "data": {
      "text/plain": [
       "DataLoader (generic function with 1 method)"
      ]
     },
     "execution_count": 4,
     "metadata": {},
     "output_type": "execute_result"
    }
   ],
   "source": [
    "function DataLoader(path::String, class::String)\n",
    "    \n",
    "    if lowercase(class) == \"pos\"\n",
    "        tag = 1\n",
    "    elseif lowercase(class) == \"neg\"\n",
    "        tag = 2\n",
    "    else\n",
    "        error(\"class must be either 'pos' or 'neg'\")\n",
    "    end\n",
    "    \n",
    "    data = []\n",
    "    for file in readdir(path)\n",
    "        full_path = joinpath(path, file)\n",
    "        f = open(full_path, \"r\")\n",
    "        review = read(f, String)\n",
    "        review = lowercase(review)\n",
    "        #review = replace(review, stop_words => \" \")\n",
    "        review = replace.(review, \"<br>\" => \" \", r\"[^a-zA-Z\\s-]\" => \" \", \"--\" => \" \", \"\\u85\" => \" \", \"-\" => \" \", \"\\t\" => \" \")\n",
    "        #review = split(review, \" \")\n",
    "        #wordids = w2i.(split(review))\n",
    "        words = split(review, \" \")\n",
    "        #words = setdiff(words, stop_words)\n",
    "        words = setdiff(words, \" \")\n",
    "        words = w2i.(words)\n",
    "        push!(data, (words, tag))\n",
    "        close(f)\n",
    "    end\n",
    "    return data\n",
    "end"
   ]
  },
  {
   "cell_type": "code",
   "execution_count": 5,
   "id": "ea1b0ff1",
   "metadata": {},
   "outputs": [],
   "source": [
    "trnPos  = DataLoader(PATH_TRAIN_POS, \"pos\"); trnNeg  = DataLoader(PATH_TRAIN_NEG, \"neg\"); \n",
    "testPos = DataLoader(PATH_TEST_POS,  \"pos\"); testNeg = DataLoader(PATH_TEST_NEG,  \"neg\"); \n",
    "trn = vcat(trnPos, trnNeg); test = vcat(testPos, testNeg);"
   ]
  },
  {
   "cell_type": "markdown",
   "id": "d7c734f0",
   "metadata": {},
   "source": [
    "# Naive Bayes Model"
   ]
  },
  {
   "cell_type": "code",
   "execution_count": 6,
   "id": "3dfe11ca",
   "metadata": {},
   "outputs": [],
   "source": [
    "wordsPos = build_wordcount_dict(trnPos);\n",
    "wordsNeg = build_wordcount_dict(trnNeg);"
   ]
  },
  {
   "cell_type": "code",
   "execution_count": 7,
   "id": "e32d759d",
   "metadata": {},
   "outputs": [
    {
     "data": {
      "text/plain": [
       "dictFrequency (generic function with 1 method)"
      ]
     },
     "execution_count": 7,
     "metadata": {},
     "output_type": "execute_result"
    }
   ],
   "source": [
    "function dictFrequency(dictionary, scale)\n",
    "    new_dict = Dict()\n",
    "    for (key, values) in dictionary\n",
    "        new_dict[key] = log(values / scale)\n",
    "    end\n",
    "    return new_dict\n",
    "end"
   ]
  },
  {
   "cell_type": "code",
   "execution_count": 8,
   "id": "c62b896e",
   "metadata": {},
   "outputs": [],
   "source": [
    "WordPos_freq = dictFrequency(wordsPos, length(wordsPos));\n",
    "WordNeg_freq = dictFrequency(wordsNeg, length(wordsNeg));"
   ]
  },
  {
   "cell_type": "code",
   "execution_count": 9,
   "id": "96815848",
   "metadata": {},
   "outputs": [
    {
     "data": {
      "text/plain": [
       "prediction (generic function with 1 method)"
      ]
     },
     "execution_count": 9,
     "metadata": {},
     "output_type": "execute_result"
    }
   ],
   "source": [
    "function prediction(review, WordPos_freq, WordNeg_freq)\n",
    "    ProbPos, ProbNeg = [], []\n",
    "    for word in review\n",
    "        #println(word)\n",
    "        if haskey(WordPos_freq, word)\n",
    "            #println(\"1\")\n",
    "            push!(ProbPos, WordPos_freq[word])\n",
    "            #println(\"2\")\n",
    "        else\n",
    "            #println(\"3\")\n",
    "            push!(ProbPos, log(1/length(WordPos_freq)))\n",
    "            #println(\"4\")\n",
    "        end\n",
    "        #println(\"5\") \n",
    "        if haskey(WordNeg_freq, word)\n",
    "            #println(\"6\")\n",
    "            push!(ProbNeg, WordNeg_freq[word])\n",
    "            #println(\"7\")\n",
    "        else\n",
    "            #println(\"8\")\n",
    "            push!(ProbNeg, log(1/length(WordNeg_freq)))\n",
    "            #println(\"9\")\n",
    "        end\n",
    "        #println(\"10\")\n",
    "    end\n",
    "    #println(\"11\")\n",
    "    if sum(ProbPos) > sum(ProbNeg)\n",
    "        #println(\"12\")\n",
    "        label = 1\n",
    "    else\n",
    "        #println(\"13\")\n",
    "        label = 2\n",
    "    end\n",
    "    return label\n",
    "end"
   ]
  },
  {
   "cell_type": "code",
   "execution_count": 10,
   "id": "07fe15b1",
   "metadata": {},
   "outputs": [
    {
     "data": {
      "text/plain": [
       "accuracy (generic function with 1 method)"
      ]
     },
     "execution_count": 10,
     "metadata": {},
     "output_type": "execute_result"
    }
   ],
   "source": [
    "function accuracy(data, WordPos_freq, WordNeg_freq)\n",
    "    res = []\n",
    "    for (review, label) in data\n",
    "        flag = label==prediction(review, WordPos_freq, WordNeg_freq)\n",
    "        push!(res, flag)\n",
    "    end\n",
    "    return mean(res)\n",
    "end"
   ]
  },
  {
   "cell_type": "markdown",
   "id": "9cc93f8d",
   "metadata": {},
   "source": [
    "# Training and Evaluation"
   ]
  },
  {
   "cell_type": "code",
   "execution_count": 11,
   "id": "89871a94",
   "metadata": {},
   "outputs": [
    {
     "name": "stdout",
     "output_type": "stream",
     "text": [
      "Training set accuracy: 0.88164\n"
     ]
    }
   ],
   "source": [
    "train_acc = accuracy(trn, WordPos_freq, WordNeg_freq)\n",
    "println(\"Training set accuracy: $(train_acc)\")"
   ]
  },
  {
   "cell_type": "code",
   "execution_count": 12,
   "id": "cec17808",
   "metadata": {},
   "outputs": [
    {
     "name": "stdout",
     "output_type": "stream",
     "text": [
      "Test set accuracy: 0.87884\n"
     ]
    }
   ],
   "source": [
    "wordsPos_test = build_wordcount_dict(testPos);\n",
    "wordsNeg_test = build_wordcount_dict(testNeg);\n",
    "WordPos_freq_test = dictFrequency(wordsPos_test, length(wordsPos_test));\n",
    "WordNeg_freq_test = dictFrequency(wordsNeg_test, length(wordsNeg_test));\n",
    "val_acc = accuracy(test, WordPos_freq_test, WordNeg_freq_test)\n",
    "println(\"Test set accuracy: $(val_acc)\")"
   ]
  },
  {
   "cell_type": "code",
   "execution_count": null,
   "id": "3e1def87",
   "metadata": {},
   "outputs": [],
   "source": []
  }
 ],
 "metadata": {
  "kernelspec": {
   "display_name": "Julia 1.7.2",
   "language": "julia",
   "name": "julia-1.7"
  },
  "language_info": {
   "file_extension": ".jl",
   "mimetype": "application/julia",
   "name": "julia",
   "version": "1.7.2"
  }
 },
 "nbformat": 4,
 "nbformat_minor": 5
}
