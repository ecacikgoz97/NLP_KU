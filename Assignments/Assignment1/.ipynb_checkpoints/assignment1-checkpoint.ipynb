{
 "cells": [
  {
   "cell_type": "markdown",
   "id": "3072f35f",
   "metadata": {},
   "source": [
    "# Large Movie Review Dataset\n",
    "# By Emre Can Acikgoz"
   ]
  },
  {
   "cell_type": "markdown",
   "id": "81a8f1df",
   "metadata": {},
   "source": [
    "# Imports"
   ]
  },
  {
   "cell_type": "code",
   "execution_count": 1,
   "id": "74aef307",
   "metadata": {},
   "outputs": [],
   "source": [
    "using Languages\n",
    "include(\"utils.jl\");"
   ]
  },
  {
   "cell_type": "markdown",
   "id": "7608697f",
   "metadata": {},
   "source": [
    "# Configurations"
   ]
  },
  {
   "cell_type": "code",
   "execution_count": 2,
   "id": "dc9dd871",
   "metadata": {},
   "outputs": [],
   "source": [
    "PATH_TRAIN_POS = \"/Users/emrecanacikgoz/Desktop/Comp442/data/aclImdb/train/pos\";\n",
    "PATH_TRAIN_NEG = \"/Users/emrecanacikgoz/Desktop/Comp442/data/aclImdb/train/neg\";\n",
    "PATH_TEST_POS  = \"/Users/emrecanacikgoz/Desktop/Comp442/data/aclImdb/test/pos\";\n",
    "PATH_TEST_NEG  = \"/Users/emrecanacikgoz/Desktop/Comp442/data/aclImdb/test/neg\";"
   ]
  },
  {
   "cell_type": "markdown",
   "id": "73eb73c2",
   "metadata": {},
   "source": [
    "# Data Pre-Processing"
   ]
  },
  {
   "cell_type": "code",
   "execution_count": 3,
   "id": "752871d1",
   "metadata": {},
   "outputs": [
    {
     "data": {
      "text/plain": [
       "w2i (generic function with 1 method)"
      ]
     },
     "execution_count": 3,
     "metadata": {},
     "output_type": "execute_result"
    }
   ],
   "source": [
    "wdict = Dict()\n",
    "w2i(x) = get!(wdict, x, 1+length(wdict))"
   ]
  },
  {
   "cell_type": "code",
   "execution_count": 4,
   "id": "b5ade9b4",
   "metadata": {},
   "outputs": [
    {
     "data": {
      "text/plain": [
       "488-element Vector{String}:\n",
       " \"a\"\n",
       " \"about\"\n",
       " \"above\"\n",
       " \"across\"\n",
       " \"after\"\n",
       " \"again\"\n",
       " \"against\"\n",
       " \"all\"\n",
       " \"almost\"\n",
       " \"alone\"\n",
       " \"along\"\n",
       " \"already\"\n",
       " \"also\"\n",
       " ⋮\n",
       " \"you'd\"\n",
       " \"you'll\"\n",
       " \"young\"\n",
       " \"younger\"\n",
       " \"youngest\"\n",
       " \"your\"\n",
       " \"you're\"\n",
       " \"yours\"\n",
       " \"yourself\"\n",
       " \"yourselves\"\n",
       " \"you've\"\n",
       " \"z\""
      ]
     },
     "execution_count": 4,
     "metadata": {},
     "output_type": "execute_result"
    }
   ],
   "source": [
    "stopwords_dict = Dict()\n",
    "stop_words = stopwords(Languages.English())"
   ]
  },
  {
   "cell_type": "code",
   "execution_count": 5,
   "id": "8ed3b638",
   "metadata": {},
   "outputs": [
    {
     "data": {
      "text/plain": [
       "DataLoader (generic function with 1 method)"
      ]
     },
     "execution_count": 5,
     "metadata": {},
     "output_type": "execute_result"
    }
   ],
   "source": [
    "function DataLoader(path::String, class::String)\n",
    "    \n",
    "    if lowercase(class) == \"pos\"\n",
    "        tag = 1\n",
    "    elseif lowercase(class) == \"neg\"\n",
    "        tag = 2\n",
    "    else\n",
    "        error(\"class must be either 'pos' or 'neg'\")\n",
    "    end\n",
    "    \n",
    "    data = []\n",
    "    for file in readdir(path)\n",
    "        full_path = joinpath(path, file)\n",
    "        f = open(full_path, \"r\")\n",
    "        review = read(f, String)\n",
    "        review = lowercase(review)\n",
    "        #review = replace(review, stop_words => \" \")\n",
    "        review = replace.(review, \"<br>\" => \" \", r\"[^a-zA-Z\\s-]\" => \" \", \"--\" => \" \", \"\\u85\" => \" \", \"-\" => \" \", \"\\t\" => \" \")\n",
    "        #review = split(review, \" \")\n",
    "        #wordids = w2i.(split(review))\n",
    "        words = split(review, \" \")\n",
    "        words = setdiff(words, stop_words)\n",
    "        words = setdiff(words, \" \")\n",
    "        #words = w2i.(words)\n",
    "        push!(data, (words, tag))\n",
    "        close(f)\n",
    "    end\n",
    "    return data\n",
    "end"
   ]
  },
  {
   "cell_type": "code",
   "execution_count": 6,
   "id": "1bcb7881",
   "metadata": {},
   "outputs": [],
   "source": [
    "trnPos  = DataLoader(PATH_TRAIN_POS, \"pos\"); trnNeg  = DataLoader(PATH_TRAIN_NEG, \"neg\"); \n",
    "testPos = DataLoader(PATH_TEST_POS,  \"pos\"); testNeg = DataLoader(PATH_TEST_POS,  \"neg\"); "
   ]
  },
  {
   "cell_type": "code",
   "execution_count": 7,
   "id": "8089062f",
   "metadata": {},
   "outputs": [
    {
     "name": "stdout",
     "output_type": "stream",
     "text": [
      "Train Data: 25000, Test Data: 25000\n",
      "Train Example:\n",
      "(SubString{String}[\"bromwell\", \"cartoon\", \"comedy\", \"\", \"ran\", \"time\", \"programs\", \"school\", \"life\", \"teachers\", \"teaching\", \"profession\", \"lead\", \"believe\", \"satire\", \"closer\", \"reality\", \"scramble\", \"survive\", \"financially\", \"insightful\", \"students\", \"pathetic\", \"pomp\", \"pettiness\", \"situation\", \"remind\", \"schools\", \"episode\", \"student\", \"repeatedly\", \"tried\", \"burn\", \"immediately\", \"recalled\", \"classic\", \"line\", \"inspector\", \"sack\", \"welcome\", \"expect\", \"adults\", \"age\", \"fetched\", \"pity\", \"isn\"], 1)\n",
      "Test Example:\n",
      "(SubString{String}[\"decent\", \"movie\", \"\", \"little\", \"bit\", \"short\", \"time\", \"packs\", \"lot\", \"action\", \"grit\", \"commonsense\", \"emotions\", \"frame\", \"matt\", \"dillon\", \"main\", \"character\", \"job\", \"intensity\", \"convincing\", \"tense\", \"throughout\", \"typical\", \"fancy\", \"expensive\", \"hollywood\", \"cgi\", \"satisfying\", \"indeed\", \"price\", \"evening\", \"straight\", \"traditional\", \"acting\", \"story\", \"directing\", \"recommend\", \"development\", \"characters\", \"makes\", \"believe\", \"actually\", \"seeing\", \"real\", \"event\", \"taking\", \"cheaper\", \"budget\", \"quality\"], 2)\n"
     ]
    }
   ],
   "source": [
    "trn = vcat(trnPos, trnNeg);\n",
    "test = vcat(testPos, testNeg);\n",
    "println(\"Train Data: $(length(trn)), Test Data: $(length(test))\")\n",
    "println(\"Train Example:\\n$(first(trn))\")\n",
    "println(\"Test Example:\\n$(test[15000])\");"
   ]
  },
  {
   "cell_type": "code",
   "execution_count": 8,
   "id": "31ce2849",
   "metadata": {},
   "outputs": [
    {
     "data": {
      "text/plain": [
       "Dict{Any, Any} with 72840 entries:\n",
       "  \"redeemiing\"     => 1\n",
       "  \"poulange\"       => 1\n",
       "  \"inattentive\"    => 1\n",
       "  \"sleepwalking\"   => 20\n",
       "  \"photosynthesis\" => 1\n",
       "  \"lunk\"           => 1\n",
       "  \"henry\"          => 245\n",
       "  \"whiz\"           => 16\n",
       "  \"redresses\"      => 1\n",
       "  \"gathered\"       => 38\n",
       "  \"nikhilji\"       => 1\n",
       "  \"cannibalistic\"  => 22\n",
       "  \"jacqualine\"     => 1\n",
       "  \"rainstorms\"     => 1\n",
       "  \"underground\"    => 152\n",
       "  \"sobre\"          => 2\n",
       "  \"methods\"        => 79\n",
       "  \"keg\"            => 2\n",
       "  \"proportioned\"   => 4\n",
       "  \"crib\"           => 9\n",
       "  \"premature\"      => 16\n",
       "  \"prerelease\"     => 1\n",
       "  \"menotti\"        => 1\n",
       "  \"burkley\"        => 1\n",
       "  \"debie\"          => 1\n",
       "  ⋮                => ⋮"
      ]
     },
     "execution_count": 8,
     "metadata": {},
     "output_type": "execute_result"
    }
   ],
   "source": [
    "words = build_wordcount_dict(trn)"
   ]
  },
  {
   "cell_type": "code",
   "execution_count": 9,
   "id": "c84f703a",
   "metadata": {},
   "outputs": [
    {
     "data": {
      "text/plain": [
       "wordFilter (generic function with 1 method)"
      ]
     },
     "execution_count": 9,
     "metadata": {},
     "output_type": "execute_result"
    }
   ],
   "source": [
    "function wordFilter(dictionary, threshold)\n",
    "    for (key, value) in dictionary\n",
    "        if value < threshold\n",
    "            dictionary = delete!(dictionary, key)\n",
    "        end\n",
    "        return dictionary\n",
    "    end\n",
    "end"
   ]
  },
  {
   "cell_type": "code",
   "execution_count": 10,
   "id": "04c89bc4",
   "metadata": {},
   "outputs": [],
   "source": [
    "words_filtered = wordFilter(words, 2);"
   ]
  },
  {
   "cell_type": "code",
   "execution_count": 11,
   "id": "c9d244ec",
   "metadata": {},
   "outputs": [
    {
     "data": {
      "text/plain": [
       "Dict{Any, Any} with 72838 entries:\n",
       "  \"poulange\"       => 1\n",
       "  \"inattentive\"    => 1\n",
       "  \"sleepwalking\"   => 20\n",
       "  \"photosynthesis\" => 1\n",
       "  \"lunk\"           => 1\n",
       "  \"henry\"          => 245\n",
       "  \"whiz\"           => 16\n",
       "  \"redresses\"      => 1\n",
       "  \"gathered\"       => 38\n",
       "  \"nikhilji\"       => 1\n",
       "  \"cannibalistic\"  => 22\n",
       "  \"jacqualine\"     => 1\n",
       "  \"rainstorms\"     => 1\n",
       "  \"underground\"    => 152\n",
       "  \"sobre\"          => 2\n",
       "  \"methods\"        => 79\n",
       "  \"keg\"            => 2\n",
       "  \"proportioned\"   => 4\n",
       "  \"crib\"           => 9\n",
       "  \"premature\"      => 16\n",
       "  \"prerelease\"     => 1\n",
       "  \"menotti\"        => 1\n",
       "  \"burkley\"        => 1\n",
       "  \"debie\"          => 1\n",
       "  \"hicks\"          => 23\n",
       "  ⋮                => ⋮"
      ]
     },
     "execution_count": 11,
     "metadata": {},
     "output_type": "execute_result"
    }
   ],
   "source": [
    "words_filtered = delete!(words_filtered, \"\")"
   ]
  },
  {
   "cell_type": "markdown",
   "id": "f097ccc3",
   "metadata": {},
   "source": [
    "# Naive Bayes Model"
   ]
  },
  {
   "cell_type": "code",
   "execution_count": 12,
   "id": "5adecdf7",
   "metadata": {},
   "outputs": [
    {
     "data": {
      "text/plain": [
       "2-element Vector{Float64}:\n",
       " 0.5\n",
       " 0.5"
      ]
     },
     "execution_count": 12,
     "metadata": {},
     "output_type": "execute_result"
    }
   ],
   "source": [
    "# class probabilities\n",
    "cp = classPriors(trn)"
   ]
  },
  {
   "cell_type": "code",
   "execution_count": 13,
   "id": "ddf05617",
   "metadata": {},
   "outputs": [
    {
     "data": {
      "text/plain": [
       "wordProbs (generic function with 1 method)"
      ]
     },
     "execution_count": 13,
     "metadata": {},
     "output_type": "execute_result"
    }
   ],
   "source": [
    "# Find Probability of each word\n",
    "probs = Dict()\n",
    "function wordProbs(word_dict)\n",
    "    freq_dict = Dict()\n",
    "    for class in 1:2\n",
    "        for (word,freq) in word_dict\n",
    "            #freq_dict[class][word]= log.(word_dict[word]/sum(values(word_dict))\n",
    "            neg_logs = log(word_dict[word]/sum(values(word_dict)))\n",
    "            freq_dict[word] = neg_logs + log(0.5)\n",
    "        end\n",
    "        \n",
    "    end\n",
    "    return freq_dict\n",
    "end"
   ]
  },
  {
   "cell_type": "code",
   "execution_count": 16,
   "id": "b484a9b4",
   "metadata": {
    "scrolled": true
   },
   "outputs": [
    {
     "data": {
      "text/plain": [
       "Dict{Any, Any} with 72838 entries:\n",
       "  \"poulange\"       => -15.1942\n",
       "  \"inattentive\"    => -15.1942\n",
       "  \"sleepwalking\"   => -12.1984\n",
       "  \"photosynthesis\" => -15.1942\n",
       "  \"lunk\"           => -15.1942\n",
       "  \"henry\"          => -9.69289\n",
       "  \"whiz\"           => -12.4216\n",
       "  \"redresses\"      => -15.1942\n",
       "  \"gathered\"       => -11.5566\n",
       "  \"nikhilji\"       => -15.1942\n",
       "  \"cannibalistic\"  => -12.1031\n",
       "  \"jacqualine\"     => -15.1942\n",
       "  \"rainstorms\"     => -15.1942\n",
       "  \"underground\"    => -10.1703\n",
       "  \"sobre\"          => -14.501\n",
       "  \"methods\"        => -10.8247\n",
       "  \"keg\"            => -14.501\n",
       "  \"proportioned\"   => -13.8079\n",
       "  \"crib\"           => -12.9969\n",
       "  \"premature\"      => -12.4216\n",
       "  \"prerelease\"     => -15.1942\n",
       "  \"menotti\"        => -15.1942\n",
       "  \"burkley\"        => -15.1942\n",
       "  \"debie\"          => -15.1942\n",
       "  \"hicks\"          => -12.0587\n",
       "  ⋮                => ⋮"
      ]
     },
     "execution_count": 16,
     "metadata": {},
     "output_type": "execute_result"
    }
   ],
   "source": [
    "new_dict = wordProbs(words_filtered)"
   ]
  },
  {
   "cell_type": "code",
   "execution_count": 17,
   "id": "e4cef935",
   "metadata": {},
   "outputs": [
    {
     "data": {
      "text/plain": [
       "\"movie\""
      ]
     },
     "execution_count": 17,
     "metadata": {},
     "output_type": "execute_result"
    }
   ],
   "source": [
    "argmax(new_dict)"
   ]
  },
  {
   "cell_type": "code",
   "execution_count": null,
   "id": "f3534214",
   "metadata": {},
   "outputs": [],
   "source": []
  }
 ],
 "metadata": {
  "kernelspec": {
   "display_name": "Julia 1.7.2",
   "language": "julia",
   "name": "julia-1.7"
  },
  "language_info": {
   "file_extension": ".jl",
   "mimetype": "application/julia",
   "name": "julia",
   "version": "1.7.2"
  }
 },
 "nbformat": 4,
 "nbformat_minor": 5
}
