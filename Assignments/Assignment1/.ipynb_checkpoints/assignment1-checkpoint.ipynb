{
 "cells": [
  {
   "cell_type": "markdown",
   "id": "3072f35f",
   "metadata": {},
   "source": [
    "# Large Movie Review Dataset\n",
    "# By Emre Can Acikgoz"
   ]
  },
  {
   "cell_type": "markdown",
   "id": "81a8f1df",
   "metadata": {},
   "source": [
    "# Imports"
   ]
  },
  {
   "cell_type": "code",
   "execution_count": 1,
   "id": "74aef307",
   "metadata": {},
   "outputs": [],
   "source": [
    "include(\"utils.jl\");"
   ]
  },
  {
   "cell_type": "markdown",
   "id": "7608697f",
   "metadata": {},
   "source": [
    "# Configurations"
   ]
  },
  {
   "cell_type": "code",
   "execution_count": 2,
   "id": "dc9dd871",
   "metadata": {},
   "outputs": [],
   "source": [
    "PATH_TRAIN_POS = \"/Users/emrecanacikgoz/Desktop/Comp442/data/aclImdb/train/pos\";\n",
    "PATH_TRAIN_NEG = \"/Users/emrecanacikgoz/Desktop/Comp442/data/aclImdb/train/neg\";\n",
    "PATH_TEST_POS  = \"/Users/emrecanacikgoz/Desktop/Comp442/data/aclImdb/test/pos\";\n",
    "PATH_TEST_NEG  = \"/Users/emrecanacikgoz/Desktop/Comp442/data/aclImdb/test/neg\";"
   ]
  },
  {
   "cell_type": "markdown",
   "id": "73eb73c2",
   "metadata": {},
   "source": [
    "# Data Pre-Processing"
   ]
  },
  {
   "cell_type": "code",
   "execution_count": 3,
   "id": "752871d1",
   "metadata": {},
   "outputs": [
    {
     "data": {
      "text/plain": [
       "w2i (generic function with 1 method)"
      ]
     },
     "execution_count": 3,
     "metadata": {},
     "output_type": "execute_result"
    }
   ],
   "source": [
    "wdict = Dict()\n",
    "w2i(x) = get!(wdict, x, 1+length(wdict))"
   ]
  },
  {
   "cell_type": "code",
   "execution_count": 4,
   "id": "2a8e35e0",
   "metadata": {},
   "outputs": [
    {
     "data": {
      "text/plain": [
       "DataLoader (generic function with 1 method)"
      ]
     },
     "execution_count": 4,
     "metadata": {},
     "output_type": "execute_result"
    }
   ],
   "source": [
    "function DataLoader(path::String, class::String)\n",
    "    \n",
    "    if lowercase(class) == \"pos\"\n",
    "        tag = 1\n",
    "    elseif lowercase(class) == \"neg\"\n",
    "        tag = 2\n",
    "    else\n",
    "        error(\"class must be either 'pos' or 'neg'\")\n",
    "    end\n",
    "    \n",
    "    data = []\n",
    "    for file in readdir(path)\n",
    "        full_path = joinpath(path, file)\n",
    "        f = open(full_path, \"r\")\n",
    "        review = read(f, String)\n",
    "        review = lowercase(review)\n",
    "        review = replace(review, r\"<br>\" => \" \", r\"[^a-zA-Z\\s-]\" => \" \", r\"--\" => \" \")\n",
    "        #review = split(review, \" \")\n",
    "        wordids = w2i.(split(review))\n",
    "        push!(data, (wordids, tag))\n",
    "        close(f)\n",
    "    end\n",
    "    return data\n",
    "end"
   ]
  },
  {
   "cell_type": "code",
   "execution_count": 5,
   "id": "1bcb7881",
   "metadata": {},
   "outputs": [],
   "source": [
    "trnPos  = DataLoader(PATH_TRAIN_POS, \"pos\"); trnNeg  = DataLoader(PATH_TRAIN_NEG, \"neg\"); \n",
    "testPos = DataLoader(PATH_TEST_POS,  \"pos\"); testNeg = DataLoader(PATH_TEST_POS,  \"neg\"); "
   ]
  },
  {
   "cell_type": "code",
   "execution_count": 6,
   "id": "8089062f",
   "metadata": {},
   "outputs": [
    {
     "name": "stdout",
     "output_type": "stream",
     "text": [
      "Train Data: 25000, Test Data: 25000\n",
      "Train Example:\n",
      "([1, 2, 3, 4, 5, 6, 7, 8, 9, 10, 11, 12, 13, 14, 15, 16, 17, 18, 19, 20, 13, 21, 22, 23, 24, 10, 25, 26, 27, 28, 29, 30, 31, 1, 2, 32, 33, 3, 34, 35, 29, 36, 37, 3, 21, 10, 38, 29, 39, 40, 10, 41, 42, 43, 44, 45, 46, 47, 48, 49, 21, 50, 10, 51, 52, 10, 53, 54, 55, 56, 28, 52, 10, 57, 58, 59, 60, 48, 42, 61, 58, 62, 10, 63, 24, 64, 4, 65, 66, 67, 29, 68, 69, 10, 18, 58, 70, 71, 9, 2, 4, 72, 73, 74, 58, 75, 76, 29, 77, 78, 52, 79, 21, 65, 80, 29, 1, 2, 58, 81, 31, 82, 83, 52, 22, 84, 85, 31, 1, 2, 3, 86, 87, 88, 4, 89, 31, 7, 90, 91], 1)\n",
      "Test Example:\n",
      "([286, 3, 4, 2085, 354, 1480, 889, 424, 552, 24, 12, 102, 28, 7, 11407, 4, 1224, 52, 987, 7059, 62202, 60, 1936, 24, 31, 12, 7468, 5405, 19914, 60, 10, 15, 1705, 337, 367, 4, 1084, 434, 24, 286, 354, 10, 1936, 60, 3506, 110, 3988, 60, 988, 1193, 10, 354, 7, 3, 240, 409, 3131, 11491, 929, 5367, 987, 354, 103, 7, 410, 4, 385, 2357, 354, 2991, 102, 10, 429, 22, 1301, 410, 1084, 913, 52, 286, 354, 286, 354, 3, 3036, 3170, 987, 354, 179, 1084, 431, 390, 60, 1839, 58, 617, 910, 286, 354, 10, 337, 2096, 52, 10, 214, 110, 307, 60, 673, 148, 30, 31, 110, 235, 413, 1195, 4, 499, 949, 2515, 1537, 913, 286, 354, 58, 30, 410, 416, 179, 4306, 2945, 10, 431, 60, 977, 110, 34, 3508], 2)\n"
     ]
    }
   ],
   "source": [
    "trn = vcat(trnPos, trnNeg);\n",
    "test = vcat(testPos, testNeg);\n",
    "println(\"Train Data: $(length(trn)), Test Data: $(length(test))\")\n",
    "println(\"Train Example:\\n$(first(trn))\")\n",
    "println(\"Test Example:\\n$(test[15000])\")"
   ]
  },
  {
   "cell_type": "code",
   "execution_count": 7,
   "id": "09d3aced",
   "metadata": {},
   "outputs": [
    {
     "data": {
      "text/plain": [
       "freqWords (generic function with 1 method)"
      ]
     },
     "execution_count": 7,
     "metadata": {},
     "output_type": "execute_result"
    }
   ],
   "source": [
    "function freqWords(data)\n",
    "    \"\"\"\n",
    "    Calculate word frequencies in a dictionary.\n",
    "    \"\"\"\n",
    "    words = Dict()\n",
    "    for review in data\n",
    "        for word in review[1]\n",
    "            words[word] = get(words, word, 0) + 1\n",
    "        end\n",
    "    end\n",
    "    return words\n",
    "end"
   ]
  },
  {
   "cell_type": "code",
   "execution_count": 8,
   "id": "31ce2849",
   "metadata": {},
   "outputs": [],
   "source": [
    "words = freqWords(trn);"
   ]
  },
  {
   "cell_type": "markdown",
   "id": "f097ccc3",
   "metadata": {},
   "source": [
    "# Naive Bayes Model"
   ]
  },
  {
   "cell_type": "code",
   "execution_count": 9,
   "id": "0cdc7cf3",
   "metadata": {},
   "outputs": [
    {
     "data": {
      "text/plain": [
       "classPriors (generic function with 1 method)"
      ]
     },
     "execution_count": 9,
     "metadata": {},
     "output_type": "execute_result"
    }
   ],
   "source": [
    "function classPriors(data)\n",
    "    class1 = 0\n",
    "    class2 = 0\n",
    "    for review in data\n",
    "        if review[2] == 1\n",
    "            class1 += 1\n",
    "        else\n",
    "            class2 += 1\n",
    "        end\n",
    "    end\n",
    "    priors=[class1, class2]\n",
    "end"
   ]
  },
  {
   "cell_type": "code",
   "execution_count": 10,
   "id": "5adecdf7",
   "metadata": {},
   "outputs": [
    {
     "data": {
      "text/plain": [
       "2-element Vector{Int64}:\n",
       " 12500\n",
       " 12500"
      ]
     },
     "execution_count": 10,
     "metadata": {},
     "output_type": "execute_result"
    }
   ],
   "source": [
    "classPriors(trn)"
   ]
  },
  {
   "cell_type": "code",
   "execution_count": null,
   "id": "ddf05617",
   "metadata": {},
   "outputs": [],
   "source": []
  }
 ],
 "metadata": {
  "kernelspec": {
   "display_name": "Julia 1.7.2",
   "language": "julia",
   "name": "julia-1.7"
  },
  "language_info": {
   "file_extension": ".jl",
   "mimetype": "application/julia",
   "name": "julia",
   "version": "1.7.2"
  }
 },
 "nbformat": 4,
 "nbformat_minor": 5
}
